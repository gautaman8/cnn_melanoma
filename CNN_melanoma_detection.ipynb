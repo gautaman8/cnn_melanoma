{
  "nbformat": 4,
  "nbformat_minor": 0,
  "metadata": {
    "colab": {
      "provenance": [],
      "mount_file_id": "1VkoLib2o5bfje-OSf26P9Y1RXCPROWGU",
      "authorship_tag": "ABX9TyPQWl6aJsjZZ9UYY/eKUist"
    },
    "kernelspec": {
      "name": "python3",
      "display_name": "Python 3"
    },
    "language_info": {
      "name": "python"
    }
  },
  "cells": [
    {
      "cell_type": "code",
      "execution_count": 17,
      "metadata": {
        "id": "wZbek-0gt4Pv"
      },
      "outputs": [],
      "source": [
        "import pathlib\n",
        "import tensorflow as tf\n",
        "import matplotlib.pyplot as plt\n",
        "import numpy as np\n",
        "import pandas as pd\n",
        "import os\n",
        "import PIL\n",
        "from tensorflow import keras\n",
        "from keras import layers\n",
        "from keras.models import Sequential"
      ]
    },
    {
      "cell_type": "code",
      "source": [
        "# Mounting from gdrive\n",
        "from google.colab import drive\n",
        "drive.mount('/CNN_Melanoma', force_remount=True)"
      ],
      "metadata": {
        "colab": {
          "base_uri": "https://localhost:8080/"
        },
        "id": "rdQClds6u1ok",
        "outputId": "4c74ea0e-c000-4474-8a9b-4a6e757760dd"
      },
      "execution_count": 24,
      "outputs": [
        {
          "output_type": "stream",
          "name": "stdout",
          "text": [
            "Mounted at /CNN_Melanoma\n"
          ]
        }
      ]
    },
    {
      "cell_type": "markdown",
      "source": [
        "**Define directory paths for test and train data**"
      ],
      "metadata": {
        "id": "zWGIjI4CIJAl"
      }
    },
    {
      "cell_type": "code",
      "source": [
        "data_dir_train = pathlib.Path(\"/CNN_Melanoma/MyDrive/CNN_Melanoma/Train\")"
      ],
      "metadata": {
        "id": "vl_HdZIwH0Zv"
      },
      "execution_count": 28,
      "outputs": []
    },
    {
      "cell_type": "code",
      "source": [
        "data_dir_test = pathlib.Path(\"/CNN_Melanoma/MyDrive/CNN_Melanoma/Test\")"
      ],
      "metadata": {
        "id": "sIKfIIFYIC1R"
      },
      "execution_count": 27,
      "outputs": []
    },
    {
      "cell_type": "code",
      "source": [
        "# print the image count\n",
        "image_count_train = len(list(data_dir_train.glob('*/*.jpg')))\n",
        "print(image_count_train)\n",
        "image_count_test = len(list(data_dir_test.glob('*/*.jpg')))\n",
        "print(image_count_test)"
      ],
      "metadata": {
        "colab": {
          "base_uri": "https://localhost:8080/"
        },
        "id": "edjspYQOIHW_",
        "outputId": "0577322d-b1d7-4283-e934-caf888d588bc"
      },
      "execution_count": 29,
      "outputs": [
        {
          "output_type": "stream",
          "name": "stdout",
          "text": [
            "2239\n",
            "118\n"
          ]
        }
      ]
    },
    {
      "cell_type": "code",
      "source": [
        "import os"
      ],
      "metadata": {
        "id": "jRwX0jGHJWYC"
      },
      "execution_count": 12,
      "outputs": []
    },
    {
      "cell_type": "code",
      "source": [
        "os.listdir(\"\")"
      ],
      "metadata": {
        "colab": {
          "base_uri": "https://localhost:8080/"
        },
        "id": "xkBULXTxKH8O",
        "outputId": "d8bb13a3-b6bb-4f01-9852-985eb6fbbbd0"
      },
      "execution_count": 25,
      "outputs": [
        {
          "output_type": "execute_result",
          "data": {
            "text/plain": [
              "['seborrheic keratosis',\n",
              " 'squamous cell carcinoma',\n",
              " 'melanoma',\n",
              " 'nevus',\n",
              " 'basal cell carcinoma',\n",
              " 'pigmented benign keratosis',\n",
              " 'dermatofibroma',\n",
              " 'vascular lesion',\n",
              " 'actinic keratosis']"
            ]
          },
          "metadata": {},
          "execution_count": 25
        }
      ]
    },
    {
      "cell_type": "code",
      "source": [],
      "metadata": {
        "id": "0I8XJaHRJco5"
      },
      "execution_count": null,
      "outputs": []
    },
    {
      "cell_type": "code",
      "source": [],
      "metadata": {
        "id": "zLAb2Z3hIZg4"
      },
      "execution_count": null,
      "outputs": []
    }
  ]
}